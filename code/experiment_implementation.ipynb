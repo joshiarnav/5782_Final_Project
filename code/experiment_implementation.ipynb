{
 "cells": [
  {
   "cell_type": "code",
   "execution_count": null,
   "metadata": {
    "vscode": {
     "languageId": "plaintext"
    }
   },
   "outputs": [],
   "source": [
    "from google.colab import drive\n",
    "drive.mount('/content/drive')"
   ]
  },
  {
   "cell_type": "code",
   "execution_count": null,
   "metadata": {
    "vscode": {
     "languageId": "plaintext"
    }
   },
   "outputs": [],
   "source": [
    "%cd /content/drive/MyDrive/Cornell/CS5782"
   ]
  },
  {
   "cell_type": "code",
   "execution_count": null,
   "metadata": {
    "vscode": {
     "languageId": "plaintext"
    }
   },
   "outputs": [],
   "source": [
    "!if [ ! -d \"5782_Final_Project\" ]; then git clone https://github.com/joshiarnav/5782_Final_Project.git && cd 5782_Final_Project; else cd \"5782_Final_Project\" && git pull; fi"
   ]
  },
  {
   "cell_type": "code",
   "execution_count": null,
   "metadata": {
    "vscode": {
     "languageId": "plaintext"
    }
   },
   "outputs": [],
   "source": [
    "!pip install -r code/requirements.txt\n",
    "!pip install scipy  # Make sure scipy is installed for confidence intervals"
   ]
  },
  {
   "cell_type": "code",
   "execution_count": null,
   "metadata": {
    "vscode": {
     "languageId": "plaintext"
    }
   },
   "outputs": [],
   "source": [
    "# Run a small test experiment (optional)\n",
    "!python code/experiment_runner.py \\\n",
    "    --output_dir=./experiment_results_test \\\n",
    "    --orthographies 10ebased decimal \\\n",
    "    --digit_lengths 2 5 \\\n",
    "    --train_size=100 \\\n",
    "    --max_epochs=2"
   ]
  },
  {
   "cell_type": "code",
   "execution_count": null,
   "metadata": {
    "vscode": {
     "languageId": "plaintext"
    }
   },
   "outputs": [],
   "source": [
    "!python code/experiment_runner.py --output_dir=./experiment_results"
   ]
  },
  {
   "cell_type": "code",
   "execution_count": null,
   "metadata": {
    "vscode": {
     "languageId": "plaintext"
    }
   },
   "outputs": [],
   "source": [
    "# !python code/experiment_runner.py --output_dir=./experiment_results --plot_only"
   ]
  },
  {
   "cell_type": "code",
   "execution_count": null,
   "metadata": {
    "vscode": {
     "languageId": "plaintext"
    }
   },
   "outputs": [],
   "source": [
    "# Display the plot in the notebook\n",
    "import matplotlib.pyplot as plt\n",
    "import json\n",
    "import os\n",
    "from google.colab import files\n",
    "\n",
    "# Load and display the plot\n",
    "if os.path.exists('./experiment_results/figure1_reproduction.png'):\n",
    "    plt.figure(figsize=(12, 8))\n",
    "    img = plt.imread('./experiment_results/figure1_reproduction.png')\n",
    "    plt.imshow(img)\n",
    "    plt.axis('off')\n",
    "    plt.show()\n",
    "    \n",
    "    # Also download the plot\n",
    "    files.download('./experiment_results/figure1_reproduction.png')\n",
    "    files.download('./experiment_results/figure1_reproduction.pdf')\n",
    "else:\n",
    "    print(\"Plot not found. Run experiments first.\")\n"
   ]
  },
  {
   "cell_type": "code",
   "execution_count": null,
   "metadata": {
    "vscode": {
     "languageId": "plaintext"
    }
   },
   "outputs": [],
   "source": [
    "if os.path.exists('./experiment_results/experiment_results.json'):\n",
    "    with open('./experiment_results/experiment_results.json', 'r') as f:\n",
    "        results = json.load(f)\n",
    "    print(json.dumps(results, indent=2))\n",
    "else:\n",
    "    print(\"Results not found. Run experiments first.\")"
   ]
  }
 ],
 "metadata": {
  "language_info": {
   "name": "python"
  }
 },
 "nbformat": 4,
 "nbformat_minor": 2
}
